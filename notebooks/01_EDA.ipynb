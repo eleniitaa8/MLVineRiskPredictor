{
 "cells": [
  {
   "cell_type": "markdown",
   "id": "c68b951f",
   "metadata": {},
   "source": [
    "# 01_EDA.ipynb\n",
    "## Exploratory Data Analysis: Grape Disease Dataset\n",
    "\n",
    "In this notebook we will:\n",
    "1. Load the CSV into a Pandas DataFrame.\n",
    "2. Preview data, check dtypes, nulls.\n",
    "3. Use `plot_histograms` and `plot_correlation_matrix` from `src/eda.py`."
   ]
  },
  {
   "cell_type": "code",
   "execution_count": 19,
   "id": "e522e0d0",
   "metadata": {},
   "outputs": [
    {
     "name": "stdout",
     "output_type": "stream",
     "text": [
      "ROOT: c:\\PROG_ELE\\igem\\MLVineRiskPredictor\n",
      "DATA_RAW: c:\\PROG_ELE\\igem\\MLVineRiskPredictor\\data\\raw\\grape_disease\\Grape_Disease_Dataset.csv\n",
      "FIG_DIR: c:\\PROG_ELE\\igem\\MLVineRiskPredictor\\reports\\figures\n"
     ]
    }
   ],
   "source": [
    "# Cell 1: imports & paths\n",
    "import pandas as pd\n",
    "import os, sys\n",
    "\n",
    "ROOT = os.path.abspath('..')       # adjust if needed\n",
    "DATA_RAW = os.path.join(ROOT, 'data', 'raw', 'grape_disease', 'Grape_Disease_Dataset.csv')\n",
    "FIG_DIR  = os.path.join(ROOT, 'reports', 'figures')\n",
    "\n",
    "os.makedirs(FIG_DIR, exist_ok=True)\n",
    "print (f\"ROOT: {ROOT}\")\n",
    "print (f\"DATA_RAW: {DATA_RAW}\")\n",
    "print(f\"FIG_DIR: {FIG_DIR}\")\n",
    "\n",
    "sys.path.insert(0, ROOT)\n",
    "\n",
    "from src.eda import plot_histograms, plot_correlation_matrix\n"
   ]
  },
  {
   "cell_type": "code",
   "execution_count": null,
   "id": "4aa51a69",
   "metadata": {},
   "outputs": [
    {
     "data": {
      "text/html": [
       "<div>\n",
       "<style scoped>\n",
       "    .dataframe tbody tr th:only-of-type {\n",
       "        vertical-align: middle;\n",
       "    }\n",
       "\n",
       "    .dataframe tbody tr th {\n",
       "        vertical-align: top;\n",
       "    }\n",
       "\n",
       "    .dataframe thead th {\n",
       "        text-align: right;\n",
       "    }\n",
       "</style>\n",
       "<table border=\"1\" class=\"dataframe\">\n",
       "  <thead>\n",
       "    <tr style=\"text-align: right;\">\n",
       "      <th></th>\n",
       "      <th>Date _Time</th>\n",
       "      <th>Temperature</th>\n",
       "      <th>Humidity</th>\n",
       "      <th>LW</th>\n",
       "    </tr>\n",
       "  </thead>\n",
       "  <tbody>\n",
       "    <tr>\n",
       "      <th>0</th>\n",
       "      <td>2023-03-20 13:00:46</td>\n",
       "      <td>26.9</td>\n",
       "      <td>22</td>\n",
       "      <td>5</td>\n",
       "    </tr>\n",
       "    <tr>\n",
       "      <th>1</th>\n",
       "      <td>2023-03-20 13:00:50</td>\n",
       "      <td>26.9</td>\n",
       "      <td>22</td>\n",
       "      <td>5</td>\n",
       "    </tr>\n",
       "    <tr>\n",
       "      <th>2</th>\n",
       "      <td>2023-03-20 13:00:53</td>\n",
       "      <td>26.9</td>\n",
       "      <td>22</td>\n",
       "      <td>6</td>\n",
       "    </tr>\n",
       "    <tr>\n",
       "      <th>3</th>\n",
       "      <td>2023-03-20 13:00:57</td>\n",
       "      <td>26.9</td>\n",
       "      <td>22</td>\n",
       "      <td>5</td>\n",
       "    </tr>\n",
       "    <tr>\n",
       "      <th>4</th>\n",
       "      <td>2023-03-20 13:01:00</td>\n",
       "      <td>26.9</td>\n",
       "      <td>22</td>\n",
       "      <td>5</td>\n",
       "    </tr>\n",
       "  </tbody>\n",
       "</table>\n",
       "</div>"
      ],
      "text/plain": [
       "           Date _Time  Temperature  Humidity  LW \n",
       "0 2023-03-20 13:00:46         26.9        22    5\n",
       "1 2023-03-20 13:00:50         26.9        22    5\n",
       "2 2023-03-20 13:00:53         26.9        22    6\n",
       "3 2023-03-20 13:00:57         26.9        22    5\n",
       "4 2023-03-20 13:01:00         26.9        22    5"
      ]
     },
     "execution_count": 20,
     "metadata": {},
     "output_type": "execute_result"
    }
   ],
   "source": [
    "# Cell 2: DataFrame 'df' is already loaded and ready to use.\n",
    "# No need to reload or parse the CSV again.\n",
    "df.head()\n",
    "\n"
   ]
  },
  {
   "cell_type": "code",
   "execution_count": 23,
   "id": "7f3a7047",
   "metadata": {},
   "outputs": [
    {
     "name": "stdout",
     "output_type": "stream",
     "text": [
      "(10001, 4)\n"
     ]
    },
    {
     "data": {
      "text/html": [
       "<div>\n",
       "<style scoped>\n",
       "    .dataframe tbody tr th:only-of-type {\n",
       "        vertical-align: middle;\n",
       "    }\n",
       "\n",
       "    .dataframe tbody tr th {\n",
       "        vertical-align: top;\n",
       "    }\n",
       "\n",
       "    .dataframe thead th {\n",
       "        text-align: right;\n",
       "    }\n",
       "</style>\n",
       "<table border=\"1\" class=\"dataframe\">\n",
       "  <thead>\n",
       "    <tr style=\"text-align: right;\">\n",
       "      <th></th>\n",
       "      <th>Date _Time</th>\n",
       "      <th>Temperature</th>\n",
       "      <th>Humidity</th>\n",
       "      <th>LW</th>\n",
       "    </tr>\n",
       "  </thead>\n",
       "  <tbody>\n",
       "    <tr>\n",
       "      <th>0</th>\n",
       "      <td>2023-03-20 13:00:46</td>\n",
       "      <td>26.9</td>\n",
       "      <td>22</td>\n",
       "      <td>5</td>\n",
       "    </tr>\n",
       "    <tr>\n",
       "      <th>1</th>\n",
       "      <td>2023-03-20 13:00:50</td>\n",
       "      <td>26.9</td>\n",
       "      <td>22</td>\n",
       "      <td>5</td>\n",
       "    </tr>\n",
       "    <tr>\n",
       "      <th>2</th>\n",
       "      <td>2023-03-20 13:00:53</td>\n",
       "      <td>26.9</td>\n",
       "      <td>22</td>\n",
       "      <td>6</td>\n",
       "    </tr>\n",
       "    <tr>\n",
       "      <th>3</th>\n",
       "      <td>2023-03-20 13:00:57</td>\n",
       "      <td>26.9</td>\n",
       "      <td>22</td>\n",
       "      <td>5</td>\n",
       "    </tr>\n",
       "    <tr>\n",
       "      <th>4</th>\n",
       "      <td>2023-03-20 13:01:00</td>\n",
       "      <td>26.9</td>\n",
       "      <td>22</td>\n",
       "      <td>5</td>\n",
       "    </tr>\n",
       "  </tbody>\n",
       "</table>\n",
       "</div>"
      ],
      "text/plain": [
       "           Date _Time  Temperature  Humidity  LW \n",
       "0 2023-03-20 13:00:46         26.9        22    5\n",
       "1 2023-03-20 13:00:50         26.9        22    5\n",
       "2 2023-03-20 13:00:53         26.9        22    6\n",
       "3 2023-03-20 13:00:57         26.9        22    5\n",
       "4 2023-03-20 13:01:00         26.9        22    5"
      ]
     },
     "execution_count": 23,
     "metadata": {},
     "output_type": "execute_result"
    }
   ],
   "source": [
    "# Cell 3: quick peek\n",
    "print(df.shape)\n",
    "df.head()\n"
   ]
  },
  {
   "cell_type": "code",
   "execution_count": 24,
   "id": "b91ee344",
   "metadata": {},
   "outputs": [
    {
     "name": "stdout",
     "output_type": "stream",
     "text": [
      "Date _Time     datetime64[ns]\n",
      "Temperature           float64\n",
      "Humidity                int64\n",
      "LW                      int64\n",
      "dtype: object\n",
      "Date _Time     0\n",
      "Temperature    0\n",
      "Humidity       0\n",
      "LW             0\n",
      "dtype: int64\n"
     ]
    }
   ],
   "source": [
    "# Cell 4: dtypes & null counts\n",
    "print(df.dtypes)\n",
    "print(df.isna().sum())\n"
   ]
  },
  {
   "cell_type": "code",
   "execution_count": null,
   "id": "259a08fe",
   "metadata": {},
   "outputs": [],
   "source": [
    "# Cell 5: histograms\n",
    "plot_histograms(df, FIG_DIR)\n"
   ]
  },
  {
   "cell_type": "code",
   "execution_count": 26,
   "id": "94080870",
   "metadata": {},
   "outputs": [],
   "source": [
    "# Cell 6: correlation heatmap\n",
    "plot_correlation_matrix(df, os.path.join(FIG_DIR, 'correlation_matrix.png'))\n"
   ]
  },
  {
   "cell_type": "markdown",
   "id": "b4da3e78",
   "metadata": {},
   "source": [
    "### Next Steps\n",
    "- Review the saved histograms in `reports/figures/` to spot:\n",
    "  - Constant or near-constant columns\n",
    "  - Highly skewed distributions\n",
    "  - Unexpected outliers\n",
    "\n",
    "- Inspect the correlation matrix:\n",
    "  - Columns with extremely high correlation (ρ > 0.9) can be candidates for removal or dimensionality reduction.\n",
    "  - Columns uncorrelated with others might not add predictive power (but check against the target later).\n",
    "\n",
    "Once you’ve identified which features to drop or transform, move those decisions into `src/clean.py` and generate a cleaned CSV in `data/processed/`. Then you can proceed to feature engineering.\n"
   ]
  }
 ],
 "metadata": {
  "kernelspec": {
   "display_name": "myenv",
   "language": "python",
   "name": "python3"
  },
  "language_info": {
   "codemirror_mode": {
    "name": "ipython",
    "version": 3
   },
   "file_extension": ".py",
   "mimetype": "text/x-python",
   "name": "python",
   "nbconvert_exporter": "python",
   "pygments_lexer": "ipython3",
   "version": "3.11.9"
  }
 },
 "nbformat": 4,
 "nbformat_minor": 5
}
